{
 "cells": [
  {
   "cell_type": "markdown",
   "metadata": {},
   "source": [
    "# About\n",
    "This notebook shows the creation of the final submission\n",
    "***\n",
    "# Preface\n",
    "## Imports"
   ]
  },
  {
   "cell_type": "code",
   "execution_count": 24,
   "metadata": {},
   "outputs": [],
   "source": [
    "import os\n",
    "os.chdir(\"/home/jovyan/work\")\n",
    "\n",
    "import numpy as np\n",
    "import pandas as pd\n",
    "from sklearn.pipeline import Pipeline\n",
    "\n",
    "from src.transformer import HistWinLossTransformer, OddTransformer, WinLossTransformer\n",
    "from src.utils import format_submission, get_table, sample_submission_to_df"
   ]
  },
  {
   "cell_type": "markdown",
   "metadata": {},
   "source": [
    "***\n",
    "# Get the data"
   ]
  },
  {
   "cell_type": "code",
   "execution_count": 10,
   "metadata": {},
   "outputs": [
    {
     "data": {
      "text/html": [
       "<div>\n",
       "<table border=\"1\" class=\"dataframe\">\n",
       "  <thead>\n",
       "    <tr style=\"text-align: right;\">\n",
       "      <th></th>\n",
       "      <th>season</th>\n",
       "      <th>team_id_a</th>\n",
       "      <th>team_id_b</th>\n",
       "    </tr>\n",
       "  </thead>\n",
       "  <tbody>\n",
       "    <tr>\n",
       "      <th>0</th>\n",
       "      <td>2018</td>\n",
       "      <td>1104</td>\n",
       "      <td>1112</td>\n",
       "    </tr>\n",
       "    <tr>\n",
       "      <th>1</th>\n",
       "      <td>2018</td>\n",
       "      <td>1104</td>\n",
       "      <td>1113</td>\n",
       "    </tr>\n",
       "    <tr>\n",
       "      <th>2</th>\n",
       "      <td>2018</td>\n",
       "      <td>1104</td>\n",
       "      <td>1116</td>\n",
       "    </tr>\n",
       "    <tr>\n",
       "      <th>3</th>\n",
       "      <td>2018</td>\n",
       "      <td>1104</td>\n",
       "      <td>1120</td>\n",
       "    </tr>\n",
       "    <tr>\n",
       "      <th>4</th>\n",
       "      <td>2018</td>\n",
       "      <td>1104</td>\n",
       "      <td>1137</td>\n",
       "    </tr>\n",
       "  </tbody>\n",
       "</table>\n",
       "</div>"
      ],
      "text/plain": [
       "   season  team_id_a  team_id_b\n",
       "0    2018       1104       1112\n",
       "1    2018       1104       1113\n",
       "2    2018       1104       1116\n",
       "3    2018       1104       1120\n",
       "4    2018       1104       1137"
      ]
     },
     "execution_count": 10,
     "metadata": {},
     "output_type": "execute_result"
    }
   ],
   "source": [
    "df_sample_stage2 = sample_submission_to_df(get_table(\"t_original_sample_submission_stage2\"))\n",
    "df_sample_stage2.head()"
   ]
  },
  {
   "cell_type": "markdown",
   "metadata": {},
   "source": [
    "# Merge with meta information & derive odds"
   ]
  },
  {
   "cell_type": "code",
   "execution_count": 19,
   "metadata": {},
   "outputs": [],
   "source": [
    "# derive wins & losses\n",
    "wltrans = WinLossTransformer(\n",
    "    \"team_id_a\",\n",
    "    \"team_id_b\",\n",
    ")\n",
    "\n",
    "# derive wins & losses\n",
    "ncaa_wltrans = HistWinLossTransformer(\n",
    "    \"team_id_a\",\n",
    "    \"team_id_b\",\n",
    ")\n",
    "\n",
    "# derive odds\n",
    "otrans = OddTransformer(\n",
    "    [\"wins_reg_a\", \"wins_hist_a\"],\n",
    "    [\"losses_reg_a\", \"losses_hist_a\"],\n",
    "    [\"wins_reg_b\", \"wins_hist_b\"],\n",
    "    [\"losses_reg_b\", \"losses_hist_b\"],\n",
    "    n_samples=100,\n",
    "    n_experiments=100,\n",
    ")\n",
    "\n",
    "# chain transformer\n",
    "ppl = Pipeline([\n",
    "    (\"win_loss_transformer\", wltrans),\n",
    "    (\"ncaa_win_loss_transformer\", ncaa_wltrans),\n",
    "    (\"odd_transfomer\", otrans),\n",
    "])"
   ]
  },
  {
   "cell_type": "code",
   "execution_count": 22,
   "metadata": {},
   "outputs": [
    {
     "data": {
      "text/html": [
       "<div>\n",
       "<table border=\"1\" class=\"dataframe\">\n",
       "  <thead>\n",
       "    <tr style=\"text-align: right;\">\n",
       "      <th></th>\n",
       "      <th>season</th>\n",
       "      <th>team_id_a</th>\n",
       "      <th>team_id_b</th>\n",
       "      <th>wins_reg_a</th>\n",
       "      <th>wins_reg_b</th>\n",
       "      <th>losses_reg_a</th>\n",
       "      <th>losses_reg_b</th>\n",
       "      <th>wins_hist_a</th>\n",
       "      <th>wins_hist_b</th>\n",
       "      <th>losses_hist_a</th>\n",
       "      <th>losses_hist_b</th>\n",
       "      <th>odds_a</th>\n",
       "    </tr>\n",
       "  </thead>\n",
       "  <tbody>\n",
       "    <tr>\n",
       "      <th>0</th>\n",
       "      <td>2018</td>\n",
       "      <td>1104</td>\n",
       "      <td>1112</td>\n",
       "      <td>19</td>\n",
       "      <td>27</td>\n",
       "      <td>15</td>\n",
       "      <td>7</td>\n",
       "      <td>18</td>\n",
       "      <td>54</td>\n",
       "      <td>15</td>\n",
       "      <td>30</td>\n",
       "      <td>0.0360</td>\n",
       "    </tr>\n",
       "    <tr>\n",
       "      <th>1</th>\n",
       "      <td>2018</td>\n",
       "      <td>1104</td>\n",
       "      <td>1113</td>\n",
       "      <td>19</td>\n",
       "      <td>20</td>\n",
       "      <td>15</td>\n",
       "      <td>11</td>\n",
       "      <td>18</td>\n",
       "      <td>5</td>\n",
       "      <td>15</td>\n",
       "      <td>5</td>\n",
       "      <td>0.2840</td>\n",
       "    </tr>\n",
       "    <tr>\n",
       "      <th>2</th>\n",
       "      <td>2018</td>\n",
       "      <td>1104</td>\n",
       "      <td>1116</td>\n",
       "      <td>19</td>\n",
       "      <td>23</td>\n",
       "      <td>15</td>\n",
       "      <td>11</td>\n",
       "      <td>18</td>\n",
       "      <td>30</td>\n",
       "      <td>15</td>\n",
       "      <td>18</td>\n",
       "      <td>0.1196</td>\n",
       "    </tr>\n",
       "    <tr>\n",
       "      <th>3</th>\n",
       "      <td>2018</td>\n",
       "      <td>1104</td>\n",
       "      <td>1120</td>\n",
       "      <td>19</td>\n",
       "      <td>25</td>\n",
       "      <td>15</td>\n",
       "      <td>7</td>\n",
       "      <td>18</td>\n",
       "      <td>12</td>\n",
       "      <td>15</td>\n",
       "      <td>7</td>\n",
       "      <td>0.0290</td>\n",
       "    </tr>\n",
       "    <tr>\n",
       "      <th>4</th>\n",
       "      <td>2018</td>\n",
       "      <td>1104</td>\n",
       "      <td>1137</td>\n",
       "      <td>19</td>\n",
       "      <td>25</td>\n",
       "      <td>15</td>\n",
       "      <td>9</td>\n",
       "      <td>18</td>\n",
       "      <td>2</td>\n",
       "      <td>15</td>\n",
       "      <td>7</td>\n",
       "      <td>0.2208</td>\n",
       "    </tr>\n",
       "  </tbody>\n",
       "</table>\n",
       "</div>"
      ],
      "text/plain": [
       "   season  team_id_a  team_id_b  wins_reg_a  wins_reg_b  losses_reg_a  \\\n",
       "0    2018       1104       1112          19          27            15   \n",
       "1    2018       1104       1113          19          20            15   \n",
       "2    2018       1104       1116          19          23            15   \n",
       "3    2018       1104       1120          19          25            15   \n",
       "4    2018       1104       1137          19          25            15   \n",
       "\n",
       "   losses_reg_b  wins_hist_a  wins_hist_b  losses_hist_a  losses_hist_b  \\\n",
       "0             7           18           54             15             30   \n",
       "1            11           18            5             15              5   \n",
       "2            11           18           30             15             18   \n",
       "3             7           18           12             15              7   \n",
       "4             9           18            2             15              7   \n",
       "\n",
       "   odds_a  \n",
       "0  0.0360  \n",
       "1  0.2840  \n",
       "2  0.1196  \n",
       "3  0.0290  \n",
       "4  0.2208  "
      ]
     },
     "execution_count": 22,
     "metadata": {},
     "output_type": "execute_result"
    }
   ],
   "source": [
    "df_odds = ppl.fit_transform(df_sample_stage2)\n",
    "df_odds.head()"
   ]
  },
  {
   "cell_type": "markdown",
   "metadata": {},
   "source": [
    "# Format the data for submission readiness"
   ]
  },
  {
   "cell_type": "code",
   "execution_count": 30,
   "metadata": {},
   "outputs": [
    {
     "data": {
      "text/html": [
       "<div>\n",
       "<table border=\"1\" class=\"dataframe\">\n",
       "  <thead>\n",
       "    <tr style=\"text-align: right;\">\n",
       "      <th></th>\n",
       "      <th>id</th>\n",
       "      <th>pred</th>\n",
       "    </tr>\n",
       "  </thead>\n",
       "  <tbody>\n",
       "    <tr>\n",
       "      <th>0</th>\n",
       "      <td>2018_1104_1112</td>\n",
       "      <td>0.0360</td>\n",
       "    </tr>\n",
       "    <tr>\n",
       "      <th>1</th>\n",
       "      <td>2018_1104_1113</td>\n",
       "      <td>0.2840</td>\n",
       "    </tr>\n",
       "    <tr>\n",
       "      <th>2</th>\n",
       "      <td>2018_1104_1116</td>\n",
       "      <td>0.1196</td>\n",
       "    </tr>\n",
       "    <tr>\n",
       "      <th>3</th>\n",
       "      <td>2018_1104_1120</td>\n",
       "      <td>0.0290</td>\n",
       "    </tr>\n",
       "    <tr>\n",
       "      <th>4</th>\n",
       "      <td>2018_1104_1137</td>\n",
       "      <td>0.2208</td>\n",
       "    </tr>\n",
       "  </tbody>\n",
       "</table>\n",
       "</div>"
      ],
      "text/plain": [
       "               id    pred\n",
       "0  2018_1104_1112  0.0360\n",
       "1  2018_1104_1113  0.2840\n",
       "2  2018_1104_1116  0.1196\n",
       "3  2018_1104_1120  0.0290\n",
       "4  2018_1104_1137  0.2208"
      ]
     },
     "execution_count": 30,
     "metadata": {},
     "output_type": "execute_result"
    }
   ],
   "source": [
    "df_submission = \\\n",
    "format_submission(\n",
    "    df_odds,\n",
    "    col_season=\"season\",\n",
    "    col_team_id_w=\"team_id_a\",\n",
    "    col_team_id_l=\"team_id_b\",\n",
    "    col_odds_w=\"odds_a\",\n",
    "    warning=False\n",
    ")\n",
    "\n",
    "df_submission.head()"
   ]
  },
  {
   "cell_type": "code",
   "execution_count": 32,
   "metadata": {},
   "outputs": [],
   "source": [
    "df_submission.to_csv(\"reg_hist_beta_odds.csv\", index=False)"
   ]
  }
 ],
 "metadata": {
  "kernelspec": {
   "display_name": "Python 3",
   "language": "python",
   "name": "python3"
  },
  "language_info": {
   "codemirror_mode": {
    "name": "ipython",
    "version": 3
   },
   "file_extension": ".py",
   "mimetype": "text/x-python",
   "name": "python",
   "nbconvert_exporter": "python",
   "pygments_lexer": "ipython3",
   "version": "3.6.2"
  }
 },
 "nbformat": 4,
 "nbformat_minor": 2
}
