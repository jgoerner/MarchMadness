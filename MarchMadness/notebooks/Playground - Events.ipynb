{
 "cells": [
  {
   "cell_type": "markdown",
   "metadata": {},
   "source": [
    "# About\n",
    "Build a feature extraction, to analyse every game in superset's time series charts"
   ]
  },
  {
   "cell_type": "code",
   "execution_count": 1,
   "metadata": {},
   "outputs": [],
   "source": [
    "import os\n",
    "os.chdir(\"/home/jovyan/work\")\n",
    "\n",
    "import inflection\n",
    "import pandas as pd\n",
    "\n",
    "from src.utils import write_table"
   ]
  },
  {
   "cell_type": "code",
   "execution_count": 2,
   "metadata": {},
   "outputs": [],
   "source": [
    "df_events = pd.read_csv(\"./_Events_2017.csv\")\n",
    "\n",
    "idx_wteam = df_events[\"WTeamID\"] == 1104\n",
    "\n",
    "idx_lteam = df_events[\"LTeamID\"] == 1157\n",
    "\n",
    "idx_wscore = df_events[\"WPoints\"] != 0\n",
    "\n",
    "idx_lscore = df_events[\"LPoints\"] != 0\n",
    "\n",
    "df_scores = df_events.loc[idx_wteam & idx_lteam & idx_wscore & idx_lscore , [\"WPoints\", \"LPoints\", \"ElapsedSeconds\"]]\n",
    "\n",
    "df_start = pd.DataFrame([[0, 0, 0]], columns=df_scores.columns)\n",
    "\n",
    "df_scores = df_start.append(df_scores)\n",
    "\n",
    "df_scores[\"ElapsedSeconds\"] = pd.to_datetime(df_scores[\"ElapsedSeconds\"], unit=\"s\")\n",
    "\n",
    "df_scores.columns = map(lambda col: inflection.underscore(col), df_scores)"
   ]
  },
  {
   "cell_type": "code",
   "execution_count": 4,
   "metadata": {},
   "outputs": [
    {
     "data": {
      "text/plain": [
       "'t_derived_testing_timestamps'"
      ]
     },
     "execution_count": 4,
     "metadata": {},
     "output_type": "execute_result"
    }
   ],
   "source": [
    "write_table(df_scores, \"testing_timestamps\")"
   ]
  }
 ],
 "metadata": {
  "kernelspec": {
   "display_name": "Python 3",
   "language": "python",
   "name": "python3"
  },
  "language_info": {
   "codemirror_mode": {
    "name": "ipython",
    "version": 3
   },
   "file_extension": ".py",
   "mimetype": "text/x-python",
   "name": "python",
   "nbconvert_exporter": "python",
   "pygments_lexer": "ipython3",
   "version": "3.6.2"
  }
 },
 "nbformat": 4,
 "nbformat_minor": 2
}
