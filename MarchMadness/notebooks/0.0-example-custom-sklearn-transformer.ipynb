{
 "cells": [
  {
   "cell_type": "markdown",
   "metadata": {},
   "source": [
    "# About\n",
    "This notebook shows how to utilize the custom sklearn transformer to \n",
    "- derive regular season wins & losses per team per season\n",
    "- derive ncaa historic wins & losses per team \n",
    "- calculate winning ods based on different win / loss compositions\n",
    "- derive seed per team per season"
   ]
  },
  {
   "cell_type": "code",
   "execution_count": 1,
   "metadata": {},
   "outputs": [],
   "source": [
    "import os\n",
    "os.chdir(\"/home/jovyan/work\")\n",
    "\n",
    "import pandas as pd\n",
    "\n",
    "from src.utils import get_table\n",
    "from src.transformer import HistWinLossTransformer, OddTransformer, SeedTransformer, WinLossTransformer"
   ]
  },
  {
   "cell_type": "markdown",
   "metadata": {},
   "source": [
    "***\n",
    "# Regular Season"
   ]
  },
  {
   "cell_type": "code",
   "execution_count": 2,
   "metadata": {},
   "outputs": [
    {
     "data": {
      "text/html": [
       "<div>\n",
       "<table border=\"1\" class=\"dataframe\">\n",
       "  <thead>\n",
       "    <tr style=\"text-align: right;\">\n",
       "      <th></th>\n",
       "      <th>season</th>\n",
       "      <th>team_id</th>\n",
       "      <th>opponent_id</th>\n",
       "      <th>wins_reg_a</th>\n",
       "      <th>wins_reg_b</th>\n",
       "      <th>losses_reg_a</th>\n",
       "      <th>losses_reg_b</th>\n",
       "    </tr>\n",
       "  </thead>\n",
       "  <tbody>\n",
       "    <tr>\n",
       "      <th>0</th>\n",
       "      <td>2014</td>\n",
       "      <td>1444</td>\n",
       "      <td>1450</td>\n",
       "      <td>22</td>\n",
       "      <td>9</td>\n",
       "      <td>9</td>\n",
       "      <td>21</td>\n",
       "    </tr>\n",
       "    <tr>\n",
       "      <th>1</th>\n",
       "      <td>2014</td>\n",
       "      <td>1450</td>\n",
       "      <td>1444</td>\n",
       "      <td>9</td>\n",
       "      <td>22</td>\n",
       "      <td>21</td>\n",
       "      <td>9</td>\n",
       "    </tr>\n",
       "  </tbody>\n",
       "</table>\n",
       "</div>"
      ],
      "text/plain": [
       "   season  team_id  opponent_id  wins_reg_a  wins_reg_b  losses_reg_a  \\\n",
       "0    2014     1444         1450          22           9             9   \n",
       "1    2014     1450         1444           9          22            21   \n",
       "\n",
       "   losses_reg_b  \n",
       "0            21  \n",
       "1             9  "
      ]
     },
     "execution_count": 2,
     "metadata": {},
     "output_type": "execute_result"
    }
   ],
   "source": [
    "df_test = pd.DataFrame([[2014, 1444, 1450], [2014, 1450, 1444]], columns=[\"season\", \"team_id\", \"opponent_id\"])\n",
    "wlt = WinLossTransformer(team_id_a=\"team_id\", team_id_b=\"opponent_id\", split_by_ot=False)\n",
    "wlt.fit_transform(df_test)"
   ]
  },
  {
   "cell_type": "markdown",
   "metadata": {},
   "source": [
    "***\n",
    "# Historic NCAA"
   ]
  },
  {
   "cell_type": "code",
   "execution_count": 3,
   "metadata": {},
   "outputs": [
    {
     "data": {
      "text/html": [
       "<div>\n",
       "<table border=\"1\" class=\"dataframe\">\n",
       "  <thead>\n",
       "    <tr style=\"text-align: right;\">\n",
       "      <th></th>\n",
       "      <th>season</th>\n",
       "      <th>team_id</th>\n",
       "      <th>opponent_id</th>\n",
       "      <th>wins_no_ot_hist_a</th>\n",
       "      <th>wins_ot_hist_a</th>\n",
       "      <th>wins_no_ot_hist_b</th>\n",
       "      <th>wins_ot_hist_b</th>\n",
       "      <th>losses_no_ot_hist_a</th>\n",
       "      <th>losses_ot_hist_a</th>\n",
       "      <th>losses_no_ot_hist_b</th>\n",
       "      <th>losses_ot_hist_b</th>\n",
       "    </tr>\n",
       "  </thead>\n",
       "  <tbody>\n",
       "    <tr>\n",
       "      <th>0</th>\n",
       "      <td>2014</td>\n",
       "      <td>1444</td>\n",
       "      <td>1450</td>\n",
       "      <td>1</td>\n",
       "      <td>0</td>\n",
       "      <td>3</td>\n",
       "      <td>0</td>\n",
       "      <td>3</td>\n",
       "      <td>0</td>\n",
       "      <td>2</td>\n",
       "      <td>1</td>\n",
       "    </tr>\n",
       "    <tr>\n",
       "      <th>1</th>\n",
       "      <td>2014</td>\n",
       "      <td>1450</td>\n",
       "      <td>1444</td>\n",
       "      <td>3</td>\n",
       "      <td>0</td>\n",
       "      <td>1</td>\n",
       "      <td>0</td>\n",
       "      <td>2</td>\n",
       "      <td>1</td>\n",
       "      <td>3</td>\n",
       "      <td>0</td>\n",
       "    </tr>\n",
       "  </tbody>\n",
       "</table>\n",
       "</div>"
      ],
      "text/plain": [
       "   season  team_id  opponent_id  wins_no_ot_hist_a  wins_ot_hist_a  \\\n",
       "0    2014     1444         1450                  1               0   \n",
       "1    2014     1450         1444                  3               0   \n",
       "\n",
       "   wins_no_ot_hist_b  wins_ot_hist_b  losses_no_ot_hist_a  losses_ot_hist_a  \\\n",
       "0                  3               0                    3                 0   \n",
       "1                  1               0                    2                 1   \n",
       "\n",
       "   losses_no_ot_hist_b  losses_ot_hist_b  \n",
       "0                    2                 1  \n",
       "1                    3                 0  "
      ]
     },
     "execution_count": 3,
     "metadata": {},
     "output_type": "execute_result"
    }
   ],
   "source": [
    "df_test = pd.DataFrame([[2014, 1444, 1450], [2014, 1450, 1444]], columns=[\"season\", \"team_id\", \"opponent_id\"])\n",
    "hwlt = HistWinLossTransformer(team_id_a=\"team_id\", team_id_b=\"opponent_id\", split_by_ot=True)\n",
    "hwlt.fit_transform(df_test)"
   ]
  },
  {
   "cell_type": "markdown",
   "metadata": {},
   "source": [
    "***\n",
    "# Derive winning odds"
   ]
  },
  {
   "cell_type": "code",
   "execution_count": 4,
   "metadata": {},
   "outputs": [
    {
     "data": {
      "text/html": [
       "<div>\n",
       "<table border=\"1\" class=\"dataframe\">\n",
       "  <thead>\n",
       "    <tr style=\"text-align: right;\">\n",
       "      <th></th>\n",
       "      <th>season</th>\n",
       "      <th>team_id</th>\n",
       "      <th>opponent_id</th>\n",
       "      <th>wins_reg_a</th>\n",
       "      <th>wins_reg_b</th>\n",
       "      <th>losses_reg_a</th>\n",
       "      <th>losses_reg_b</th>\n",
       "      <th>odds_a</th>\n",
       "    </tr>\n",
       "  </thead>\n",
       "  <tbody>\n",
       "    <tr>\n",
       "      <th>0</th>\n",
       "      <td>2014</td>\n",
       "      <td>1444</td>\n",
       "      <td>1450</td>\n",
       "      <td>22</td>\n",
       "      <td>9</td>\n",
       "      <td>9</td>\n",
       "      <td>21</td>\n",
       "      <td>0.9993</td>\n",
       "    </tr>\n",
       "    <tr>\n",
       "      <th>1</th>\n",
       "      <td>2014</td>\n",
       "      <td>1450</td>\n",
       "      <td>1444</td>\n",
       "      <td>9</td>\n",
       "      <td>22</td>\n",
       "      <td>21</td>\n",
       "      <td>9</td>\n",
       "      <td>0.0005</td>\n",
       "    </tr>\n",
       "  </tbody>\n",
       "</table>\n",
       "</div>"
      ],
      "text/plain": [
       "   season  team_id  opponent_id  wins_reg_a  wins_reg_b  losses_reg_a  \\\n",
       "0    2014     1444         1450          22           9             9   \n",
       "1    2014     1450         1444           9          22            21   \n",
       "\n",
       "   losses_reg_b  odds_a  \n",
       "0            21  0.9993  \n",
       "1             9  0.0005  "
      ]
     },
     "execution_count": 4,
     "metadata": {},
     "output_type": "execute_result"
    }
   ],
   "source": [
    "df_transformed = wlt.fit_transform(df_test)\n",
    "ot = OddTransformer(\n",
    "    [\"wins_reg_a\"],\n",
    "    [\"losses_reg_a\"],\n",
    "    [\"wins_reg_b\"],\n",
    "    [\"losses_reg_b\"]\n",
    ")\n",
    "df_odds = ot.fit_transform(df_transformed)\n",
    "df_odds"
   ]
  },
  {
   "cell_type": "markdown",
   "metadata": {},
   "source": [
    "***\n",
    "## Seeding"
   ]
  },
  {
   "cell_type": "code",
   "execution_count": 5,
   "metadata": {},
   "outputs": [
    {
     "data": {
      "text/html": [
       "<div>\n",
       "<table border=\"1\" class=\"dataframe\">\n",
       "  <thead>\n",
       "    <tr style=\"text-align: right;\">\n",
       "      <th></th>\n",
       "      <th>season</th>\n",
       "      <th>team_id</th>\n",
       "      <th>opponent_id</th>\n",
       "      <th>seed_rank_a</th>\n",
       "      <th>seed_region_a</th>\n",
       "      <th>seed_rank_b</th>\n",
       "      <th>seed_region_b</th>\n",
       "    </tr>\n",
       "  </thead>\n",
       "  <tbody>\n",
       "    <tr>\n",
       "      <th>0</th>\n",
       "      <td>2014</td>\n",
       "      <td>1444</td>\n",
       "      <td>1450</td>\n",
       "      <td>14.0</td>\n",
       "      <td>X</td>\n",
       "      <td>99.0</td>\n",
       "      <td>NOSEED</td>\n",
       "    </tr>\n",
       "    <tr>\n",
       "      <th>1</th>\n",
       "      <td>2014</td>\n",
       "      <td>1450</td>\n",
       "      <td>1444</td>\n",
       "      <td>99.0</td>\n",
       "      <td>NOSEED</td>\n",
       "      <td>14.0</td>\n",
       "      <td>X</td>\n",
       "    </tr>\n",
       "  </tbody>\n",
       "</table>\n",
       "</div>"
      ],
      "text/plain": [
       "   season  team_id  opponent_id  seed_rank_a seed_region_a  seed_rank_b  \\\n",
       "0    2014     1444         1450         14.0             X         99.0   \n",
       "1    2014     1450         1444         99.0        NOSEED         14.0   \n",
       "\n",
       "  seed_region_b  \n",
       "0        NOSEED  \n",
       "1             X  "
      ]
     },
     "execution_count": 5,
     "metadata": {},
     "output_type": "execute_result"
    }
   ],
   "source": [
    "st = SeedTransformer(team_id_a=\"team_id\", team_id_b=\"opponent_id\")\n",
    "st.fit_transform(df_test)"
   ]
  }
 ],
 "metadata": {
  "kernelspec": {
   "display_name": "Python 3",
   "language": "python",
   "name": "python3"
  },
  "language_info": {
   "codemirror_mode": {
    "name": "ipython",
    "version": 3
   },
   "file_extension": ".py",
   "mimetype": "text/x-python",
   "name": "python",
   "nbconvert_exporter": "python",
   "pygments_lexer": "ipython3",
   "version": "3.6.2"
  }
 },
 "nbformat": 4,
 "nbformat_minor": 2
}
