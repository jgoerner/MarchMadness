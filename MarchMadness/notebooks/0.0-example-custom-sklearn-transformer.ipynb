{
 "cells": [
  {
   "cell_type": "markdown",
   "metadata": {},
   "source": [
    "# About\n",
    "Based on the postgres tables, the following sklearn.Transformer shall be implemented:\n",
    "- wins/losses reg season (optinally by OT)\n",
    "- wins/losses historical NCAA (optinally by OT)\n",
    "- odd calculation (specify columns for $\\alpha$ and $\\beta$)"
   ]
  },
  {
   "cell_type": "code",
   "execution_count": 5,
   "metadata": {},
   "outputs": [],
   "source": [
    "import os\n",
    "os.chdir(\"/home/jovyan/work\")\n",
    "\n",
    "import pandas as pd\n",
    "\n",
    "from src.utils import get_table"
   ]
  },
  {
   "cell_type": "code",
   "execution_count": 6,
   "metadata": {},
   "outputs": [],
   "source": [
    "from src.transformer import WinLossTransformer"
   ]
  },
  {
   "cell_type": "code",
   "execution_count": 8,
   "metadata": {},
   "outputs": [
    {
     "data": {
      "text/html": [
       "<div>\n",
       "<table border=\"1\" class=\"dataframe\">\n",
       "  <thead>\n",
       "    <tr style=\"text-align: right;\">\n",
       "      <th></th>\n",
       "      <th>season</th>\n",
       "      <th>team_id</th>\n",
       "      <th>opponent_id</th>\n",
       "      <th>wins_no_ot_a</th>\n",
       "      <th>wins_ot_a</th>\n",
       "      <th>wins_no_ot_b</th>\n",
       "      <th>wins_ot_b</th>\n",
       "      <th>losses_no_ot_a</th>\n",
       "      <th>losses_ot_a</th>\n",
       "      <th>losses_no_ot_b</th>\n",
       "      <th>losses_ot_b</th>\n",
       "    </tr>\n",
       "  </thead>\n",
       "  <tbody>\n",
       "    <tr>\n",
       "      <th>0</th>\n",
       "      <td>2014</td>\n",
       "      <td>1444</td>\n",
       "      <td>1450</td>\n",
       "      <td>19</td>\n",
       "      <td>3</td>\n",
       "      <td>9</td>\n",
       "      <td>0</td>\n",
       "      <td>8</td>\n",
       "      <td>1</td>\n",
       "      <td>19</td>\n",
       "      <td>2</td>\n",
       "    </tr>\n",
       "    <tr>\n",
       "      <th>1</th>\n",
       "      <td>2014</td>\n",
       "      <td>1450</td>\n",
       "      <td>1444</td>\n",
       "      <td>9</td>\n",
       "      <td>0</td>\n",
       "      <td>19</td>\n",
       "      <td>3</td>\n",
       "      <td>19</td>\n",
       "      <td>2</td>\n",
       "      <td>8</td>\n",
       "      <td>1</td>\n",
       "    </tr>\n",
       "  </tbody>\n",
       "</table>\n",
       "</div>"
      ],
      "text/plain": [
       "   season  team_id  opponent_id  wins_no_ot_a  wins_ot_a  wins_no_ot_b  \\\n",
       "0    2014     1444         1450            19          3             9   \n",
       "1    2014     1450         1444             9          0            19   \n",
       "\n",
       "   wins_ot_b  losses_no_ot_a  losses_ot_a  losses_no_ot_b  losses_ot_b  \n",
       "0          0               8            1              19            2  \n",
       "1          3              19            2               8            1  "
      ]
     },
     "execution_count": 8,
     "metadata": {},
     "output_type": "execute_result"
    }
   ],
   "source": [
    "df_test = pd.DataFrame([[2014, 1444, 1450], [2014, 1450, 1444]], columns=[\"season\", \"team_id\", \"opponent_id\"])\n",
    "wlt = WinLossTransformer(team_id_a=\"team_id\", team_id_b=\"opponent_id\", split_by_ot=True)\n",
    "df_transformed = wlt.fit_transform(df_test)\n",
    "df_transformed"
   ]
  }
 ],
 "metadata": {
  "kernelspec": {
   "display_name": "Python 3",
   "language": "python",
   "name": "python3"
  },
  "language_info": {
   "codemirror_mode": {
    "name": "ipython",
    "version": 3
   },
   "file_extension": ".py",
   "mimetype": "text/x-python",
   "name": "python",
   "nbconvert_exporter": "python",
   "pygments_lexer": "ipython3",
   "version": "3.6.2"
  }
 },
 "nbformat": 4,
 "nbformat_minor": 2
}
