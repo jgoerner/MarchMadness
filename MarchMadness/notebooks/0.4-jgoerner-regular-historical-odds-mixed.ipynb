{
 "cells": [
  {
   "cell_type": "markdown",
   "metadata": {},
   "source": [
    "# About\n",
    "This notebook shall investigate the mixture of odds\n",
    "- based on the current season's win & losses\n",
    "- historical NCAA wins & losses\n",
    "***"
   ]
  },
  {
   "cell_type": "markdown",
   "metadata": {},
   "source": [
    "# Preface\n",
    "## Imports"
   ]
  },
  {
   "cell_type": "code",
   "execution_count": 32,
   "metadata": {},
   "outputs": [],
   "source": [
    "import os\n",
    "os.chdir(\"/home/jovyan/work\")\n",
    "\n",
    "from IPython.core.display import HTML\n",
    "from matplotlib import pyplot as plt\n",
    "import pandas as pd\n",
    "import seaborn as sns\n",
    "from sqlalchemy import text\n",
    "\n",
    "from src.utils import calc_odds, get_connection"
   ]
  },
  {
   "cell_type": "markdown",
   "metadata": {},
   "source": [
    "## Config"
   ]
  },
  {
   "cell_type": "code",
   "execution_count": 33,
   "metadata": {},
   "outputs": [
    {
     "data": {
      "text/html": [
       "\n",
       "<style>\n",
       ".output_png{\n",
       "text-align:center;\n",
       "}\n",
       "</style>\n"
      ],
      "text/plain": [
       "<IPython.core.display.HTML object>"
      ]
     },
     "execution_count": 33,
     "metadata": {},
     "output_type": "execute_result"
    }
   ],
   "source": [
    "%matplotlib inline\n",
    "sns.set()\n",
    "HTML(\"\"\"\n",
    "<style>\n",
    ".output_png{\n",
    "text-align:center;\n",
    "}\n",
    "</style>\n",
    "\"\"\")"
   ]
  },
  {
   "cell_type": "markdown",
   "metadata": {},
   "source": [
    "***\n",
    "# Get enhanced regular season data"
   ]
  },
  {
   "cell_type": "code",
   "execution_count": 5,
   "metadata": {},
   "outputs": [
    {
     "data": {
      "text/html": [
       "<div>\n",
       "<table border=\"1\" class=\"dataframe\">\n",
       "  <thead>\n",
       "    <tr style=\"text-align: right;\">\n",
       "      <th></th>\n",
       "      <th>season</th>\n",
       "      <th>team_id_a</th>\n",
       "      <th>wins_a</th>\n",
       "      <th>losses_a</th>\n",
       "      <th>team_id_b</th>\n",
       "      <th>wins_b</th>\n",
       "      <th>losses_b</th>\n",
       "    </tr>\n",
       "  </thead>\n",
       "  <tbody>\n",
       "    <tr>\n",
       "      <th>0</th>\n",
       "      <td>1985</td>\n",
       "      <td>1116</td>\n",
       "      <td>21</td>\n",
       "      <td>12</td>\n",
       "      <td>1234</td>\n",
       "      <td>20</td>\n",
       "      <td>10</td>\n",
       "    </tr>\n",
       "    <tr>\n",
       "      <th>1</th>\n",
       "      <td>1985</td>\n",
       "      <td>1120</td>\n",
       "      <td>18</td>\n",
       "      <td>11</td>\n",
       "      <td>1345</td>\n",
       "      <td>17</td>\n",
       "      <td>8</td>\n",
       "    </tr>\n",
       "    <tr>\n",
       "      <th>2</th>\n",
       "      <td>1985</td>\n",
       "      <td>1207</td>\n",
       "      <td>25</td>\n",
       "      <td>2</td>\n",
       "      <td>1250</td>\n",
       "      <td>11</td>\n",
       "      <td>18</td>\n",
       "    </tr>\n",
       "    <tr>\n",
       "      <th>3</th>\n",
       "      <td>1985</td>\n",
       "      <td>1229</td>\n",
       "      <td>20</td>\n",
       "      <td>7</td>\n",
       "      <td>1425</td>\n",
       "      <td>19</td>\n",
       "      <td>9</td>\n",
       "    </tr>\n",
       "    <tr>\n",
       "      <th>4</th>\n",
       "      <td>1985</td>\n",
       "      <td>1242</td>\n",
       "      <td>23</td>\n",
       "      <td>7</td>\n",
       "      <td>1325</td>\n",
       "      <td>20</td>\n",
       "      <td>7</td>\n",
       "    </tr>\n",
       "  </tbody>\n",
       "</table>\n",
       "</div>"
      ],
      "text/plain": [
       "   season  team_id_a  wins_a  losses_a  team_id_b  wins_b  losses_b\n",
       "0    1985       1116      21        12       1234      20        10\n",
       "1    1985       1120      18        11       1345      17         8\n",
       "2    1985       1207      25         2       1250      11        18\n",
       "3    1985       1229      20         7       1425      19         9\n",
       "4    1985       1242      23         7       1325      20         7"
      ]
     },
     "execution_count": 5,
     "metadata": {},
     "output_type": "execute_result"
    }
   ],
   "source": [
    "df_ncaa_results_wins_losses_regular_season = pd.read_sql(\n",
    "    sql=text(\"\"\"\n",
    "SELECT\n",
    "ncaa.season as season,\n",
    "ncaa.w_team_id as team_id_a,\n",
    "wins_a.wins as wins_a,\n",
    "losses_a.losses as losses_a,\n",
    "ncaa.l_team_id as team_id_b,\n",
    "wins_b.wins as wins_b,\n",
    "losses_b.losses as losses_b\n",
    "FROM t_original_ncaa_tourney_compact_results ncaa\n",
    "\n",
    "-- join info about winning team\n",
    "JOIN t_derived_wins_per_team_per_season wins_a\n",
    "    ON ncaa.w_team_id = wins_a.team_id\n",
    "    AND ncaa.season = wins_a.season\n",
    "    \n",
    "JOIN t_derived_losses_per_team_per_season losses_a\n",
    "    ON ncaa.w_team_id = losses_a.team_id\n",
    "    AND ncaa.season = losses_a.season\n",
    "    \n",
    "-- join info about losing team\n",
    "JOIN t_derived_wins_per_team_per_season wins_b\n",
    "    ON ncaa.l_team_id = wins_b.team_id\n",
    "    AND ncaa.season = wins_b.season\n",
    "    \n",
    "JOIN t_derived_losses_per_team_per_season losses_b\n",
    "    ON ncaa.l_team_id = losses_b.team_id\n",
    "    AND ncaa.season = losses_b.season\n",
    "    \"\"\"),\n",
    "    con=get_connection()\n",
    ")\n",
    "df_ncaa_results_wins_losses_regular_season.head()"
   ]
  },
  {
   "cell_type": "markdown",
   "metadata": {},
   "source": [
    "# Get odds for regular season"
   ]
  },
  {
   "cell_type": "code",
   "execution_count": 10,
   "metadata": {},
   "outputs": [
    {
     "data": {
      "text/html": [
       "<div>\n",
       "<table border=\"1\" class=\"dataframe\">\n",
       "  <thead>\n",
       "    <tr style=\"text-align: right;\">\n",
       "      <th></th>\n",
       "      <th>season</th>\n",
       "      <th>team_id_a</th>\n",
       "      <th>wins_a</th>\n",
       "      <th>losses_a</th>\n",
       "      <th>team_id_b</th>\n",
       "      <th>wins_b</th>\n",
       "      <th>losses_b</th>\n",
       "      <th>odds_a</th>\n",
       "    </tr>\n",
       "  </thead>\n",
       "  <tbody>\n",
       "    <tr>\n",
       "      <th>0</th>\n",
       "      <td>1985</td>\n",
       "      <td>1116</td>\n",
       "      <td>21</td>\n",
       "      <td>12</td>\n",
       "      <td>1234</td>\n",
       "      <td>20</td>\n",
       "      <td>10</td>\n",
       "      <td>0.3981</td>\n",
       "    </tr>\n",
       "    <tr>\n",
       "      <th>1</th>\n",
       "      <td>1985</td>\n",
       "      <td>1120</td>\n",
       "      <td>18</td>\n",
       "      <td>11</td>\n",
       "      <td>1345</td>\n",
       "      <td>17</td>\n",
       "      <td>8</td>\n",
       "      <td>0.3125</td>\n",
       "    </tr>\n",
       "    <tr>\n",
       "      <th>2</th>\n",
       "      <td>1985</td>\n",
       "      <td>1207</td>\n",
       "      <td>25</td>\n",
       "      <td>2</td>\n",
       "      <td>1250</td>\n",
       "      <td>11</td>\n",
       "      <td>18</td>\n",
       "      <td>1.0000</td>\n",
       "    </tr>\n",
       "    <tr>\n",
       "      <th>3</th>\n",
       "      <td>1985</td>\n",
       "      <td>1229</td>\n",
       "      <td>20</td>\n",
       "      <td>7</td>\n",
       "      <td>1425</td>\n",
       "      <td>19</td>\n",
       "      <td>9</td>\n",
       "      <td>0.6988</td>\n",
       "    </tr>\n",
       "    <tr>\n",
       "      <th>4</th>\n",
       "      <td>1985</td>\n",
       "      <td>1242</td>\n",
       "      <td>23</td>\n",
       "      <td>7</td>\n",
       "      <td>1325</td>\n",
       "      <td>20</td>\n",
       "      <td>7</td>\n",
       "      <td>0.5856</td>\n",
       "    </tr>\n",
       "  </tbody>\n",
       "</table>\n",
       "</div>"
      ],
      "text/plain": [
       "   season  team_id_a  wins_a  losses_a  team_id_b  wins_b  losses_b  odds_a\n",
       "0    1985       1116      21        12       1234      20        10  0.3981\n",
       "1    1985       1120      18        11       1345      17         8  0.3125\n",
       "2    1985       1207      25         2       1250      11        18  1.0000\n",
       "3    1985       1229      20         7       1425      19         9  0.6988\n",
       "4    1985       1242      23         7       1325      20         7  0.5856"
      ]
     },
     "execution_count": 10,
     "metadata": {},
     "output_type": "execute_result"
    }
   ],
   "source": [
    "df_odds_regular_season = calc_odds(df_ncaa_results_wins_losses_regular_season, 100, 100)\n",
    "df_odds_regular_season.head()"
   ]
  },
  {
   "cell_type": "markdown",
   "metadata": {},
   "source": [
    "# Get enhanced historic season data"
   ]
  },
  {
   "cell_type": "code",
   "execution_count": 6,
   "metadata": {},
   "outputs": [
    {
     "data": {
      "text/html": [
       "<div>\n",
       "<table border=\"1\" class=\"dataframe\">\n",
       "  <thead>\n",
       "    <tr style=\"text-align: right;\">\n",
       "      <th></th>\n",
       "      <th>season</th>\n",
       "      <th>team_id_a</th>\n",
       "      <th>wins_a</th>\n",
       "      <th>losses_a</th>\n",
       "      <th>team_id_b</th>\n",
       "      <th>wins_b</th>\n",
       "      <th>losses_b</th>\n",
       "    </tr>\n",
       "  </thead>\n",
       "  <tbody>\n",
       "    <tr>\n",
       "      <th>0</th>\n",
       "      <td>1985</td>\n",
       "      <td>1116</td>\n",
       "      <td>30</td>\n",
       "      <td>18</td>\n",
       "      <td>1234</td>\n",
       "      <td>16</td>\n",
       "      <td>17</td>\n",
       "    </tr>\n",
       "    <tr>\n",
       "      <th>1</th>\n",
       "      <td>1985</td>\n",
       "      <td>1120</td>\n",
       "      <td>12</td>\n",
       "      <td>7</td>\n",
       "      <td>1345</td>\n",
       "      <td>28</td>\n",
       "      <td>24</td>\n",
       "    </tr>\n",
       "    <tr>\n",
       "      <th>2</th>\n",
       "      <td>1985</td>\n",
       "      <td>1207</td>\n",
       "      <td>33</td>\n",
       "      <td>21</td>\n",
       "      <td>1250</td>\n",
       "      <td>1</td>\n",
       "      <td>5</td>\n",
       "    </tr>\n",
       "    <tr>\n",
       "      <th>3</th>\n",
       "      <td>1985</td>\n",
       "      <td>1229</td>\n",
       "      <td>2</td>\n",
       "      <td>4</td>\n",
       "      <td>1425</td>\n",
       "      <td>9</td>\n",
       "      <td>12</td>\n",
       "    </tr>\n",
       "    <tr>\n",
       "      <th>4</th>\n",
       "      <td>1985</td>\n",
       "      <td>1242</td>\n",
       "      <td>80</td>\n",
       "      <td>30</td>\n",
       "      <td>1325</td>\n",
       "      <td>3</td>\n",
       "      <td>5</td>\n",
       "    </tr>\n",
       "  </tbody>\n",
       "</table>\n",
       "</div>"
      ],
      "text/plain": [
       "   season  team_id_a  wins_a  losses_a  team_id_b  wins_b  losses_b\n",
       "0    1985       1116      30        18       1234      16        17\n",
       "1    1985       1120      12         7       1345      28        24\n",
       "2    1985       1207      33        21       1250       1         5\n",
       "3    1985       1229       2         4       1425       9        12\n",
       "4    1985       1242      80        30       1325       3         5"
      ]
     },
     "execution_count": 6,
     "metadata": {},
     "output_type": "execute_result"
    }
   ],
   "source": [
    "df_ncaa_results_wins_losses_historical = pd.read_sql(\n",
    "    sql=text(\"\"\"\n",
    "SELECT\n",
    "ncaa.season as season,\n",
    "ncaa.w_team_id as team_id_a,\n",
    "wins_a.wins as wins_a,\n",
    "losses_a.losses as losses_a,\n",
    "ncaa.l_team_id as team_id_b,\n",
    "wins_b.wins as wins_b,\n",
    "losses_b.losses as losses_b\n",
    "FROM t_original_ncaa_tourney_compact_results ncaa\n",
    "\n",
    "-- join info about winning team\n",
    "JOIN t_derived_ncaa_wins_per_team wins_a\n",
    "    ON ncaa.w_team_id = wins_a.team_id\n",
    "    \n",
    "JOIN t_derived_ncaa_losses_per_team losses_a\n",
    "    ON ncaa.w_team_id = losses_a.team_id\n",
    "    \n",
    "-- join info about losing team\n",
    "JOIN t_derived_ncaa_wins_per_team wins_b\n",
    "    ON ncaa.l_team_id = wins_b.team_id\n",
    "    \n",
    "JOIN t_derived_ncaa_losses_per_team losses_b\n",
    "    ON ncaa.l_team_id = losses_b.team_id\n",
    "    \"\"\"),\n",
    "    con=get_connection()\n",
    ")\n",
    "df_ncaa_results_wins_losses_historical.head()"
   ]
  },
  {
   "cell_type": "markdown",
   "metadata": {},
   "source": [
    "# Get odds for regular season"
   ]
  },
  {
   "cell_type": "code",
   "execution_count": 11,
   "metadata": {},
   "outputs": [
    {
     "data": {
      "text/html": [
       "<div>\n",
       "<table border=\"1\" class=\"dataframe\">\n",
       "  <thead>\n",
       "    <tr style=\"text-align: right;\">\n",
       "      <th></th>\n",
       "      <th>season</th>\n",
       "      <th>team_id_a</th>\n",
       "      <th>wins_a</th>\n",
       "      <th>losses_a</th>\n",
       "      <th>team_id_b</th>\n",
       "      <th>wins_b</th>\n",
       "      <th>losses_b</th>\n",
       "      <th>odds_a</th>\n",
       "    </tr>\n",
       "  </thead>\n",
       "  <tbody>\n",
       "    <tr>\n",
       "      <th>0</th>\n",
       "      <td>1985</td>\n",
       "      <td>1116</td>\n",
       "      <td>30</td>\n",
       "      <td>18</td>\n",
       "      <td>1234</td>\n",
       "      <td>16</td>\n",
       "      <td>17</td>\n",
       "      <td>0.8952</td>\n",
       "    </tr>\n",
       "    <tr>\n",
       "      <th>1</th>\n",
       "      <td>1985</td>\n",
       "      <td>1120</td>\n",
       "      <td>12</td>\n",
       "      <td>7</td>\n",
       "      <td>1345</td>\n",
       "      <td>28</td>\n",
       "      <td>24</td>\n",
       "      <td>0.7792</td>\n",
       "    </tr>\n",
       "    <tr>\n",
       "      <th>2</th>\n",
       "      <td>1985</td>\n",
       "      <td>1207</td>\n",
       "      <td>33</td>\n",
       "      <td>21</td>\n",
       "      <td>1250</td>\n",
       "      <td>1</td>\n",
       "      <td>5</td>\n",
       "      <td>0.9876</td>\n",
       "    </tr>\n",
       "    <tr>\n",
       "      <th>3</th>\n",
       "      <td>1985</td>\n",
       "      <td>1229</td>\n",
       "      <td>2</td>\n",
       "      <td>4</td>\n",
       "      <td>1425</td>\n",
       "      <td>9</td>\n",
       "      <td>12</td>\n",
       "      <td>0.3166</td>\n",
       "    </tr>\n",
       "    <tr>\n",
       "      <th>4</th>\n",
       "      <td>1985</td>\n",
       "      <td>1242</td>\n",
       "      <td>80</td>\n",
       "      <td>30</td>\n",
       "      <td>1325</td>\n",
       "      <td>3</td>\n",
       "      <td>5</td>\n",
       "      <td>0.9779</td>\n",
       "    </tr>\n",
       "  </tbody>\n",
       "</table>\n",
       "</div>"
      ],
      "text/plain": [
       "   season  team_id_a  wins_a  losses_a  team_id_b  wins_b  losses_b  odds_a\n",
       "0    1985       1116      30        18       1234      16        17  0.8952\n",
       "1    1985       1120      12         7       1345      28        24  0.7792\n",
       "2    1985       1207      33        21       1250       1         5  0.9876\n",
       "3    1985       1229       2         4       1425       9        12  0.3166\n",
       "4    1985       1242      80        30       1325       3         5  0.9779"
      ]
     },
     "execution_count": 11,
     "metadata": {},
     "output_type": "execute_result"
    }
   ],
   "source": [
    "df_odds_historical = calc_odds(df_ncaa_results_wins_losses_historical, 100, 100)\n",
    "df_odds_historical.head()"
   ]
  },
  {
   "cell_type": "markdown",
   "metadata": {},
   "source": [
    "# Join historic and regular season odds"
   ]
  },
  {
   "cell_type": "code",
   "execution_count": 56,
   "metadata": {},
   "outputs": [
    {
     "data": {
      "image/png": "[encoded data removed]",
      "text/plain": [
       "<matplotlib.figure.Figure at 0x7f2112e18d68>"
      ]
     },
     "metadata": {},
     "output_type": "display_data"
    }
   ],
   "source": [
    "# join odds\n",
    "df_odds_merged = pd.merge(\n",
    "    df_odds_historical[[\"season\", \"team_id_a\", \"team_id_b\", \"odds_a\"]],\n",
    "    df_odds_regular_season[[\"season\", \"team_id_a\", \"team_id_b\", \"odds_a\"]],\n",
    "    on = [\"season\", \"team_id_a\", \"team_id_b\"],\n",
    "    suffixes = (\"_historical\", \"_regular\")\n",
    ")\n",
    "# plot joint distribution\n",
    "sns.jointplot(x=df_odds_merged[\"odds_a_historical\"], y=df_odds_merged[\"odds_a_regular\"],size=9);\n",
    "#plt.savefig(\"./figures/04_jgoerner_regular_historical_odds_mixed.png\");"
   ]
  },
  {
   "cell_type": "code",
   "execution_count": null,
   "metadata": {},
   "outputs": [],
   "source": [
    "df"
   ]
  }
 ],
 "metadata": {
  "kernelspec": {
   "display_name": "Python 3",
   "language": "python",
   "name": "python3"
  },
  "language_info": {
   "codemirror_mode": {
    "name": "ipython",
    "version": 3
   },
   "file_extension": ".py",
   "mimetype": "text/x-python",
   "name": "python",
   "nbconvert_exporter": "python",
   "pygments_lexer": "ipython3",
   "version": "3.6.2"
  }
 },
 "nbformat": 4,
 "nbformat_minor": 2
}
