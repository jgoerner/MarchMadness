{
 "cells": [
  {
   "cell_type": "markdown",
   "metadata": {},
   "source": [
    "# About\n",
    "This notebook illustrates the calculation of a game specific \"odd\" interpreted as **how likely is the win of team A competing against team B?**.\n",
    "***"
   ]
  },
  {
   "cell_type": "markdown",
   "metadata": {},
   "source": [
    "# Preface\n",
    "## Imports"
   ]
  },
  {
   "cell_type": "code",
   "execution_count": 42,
   "metadata": {},
   "outputs": [],
   "source": [
    "import os\n",
    "os.chdir(\"/home/jovyan/work\")\n",
    "\n",
    "from IPython.core.display import HTML\n",
    "from matplotlib import pyplot as plt\n",
    "import pandas as pd\n",
    "import seaborn as sns\n",
    "from sqlalchemy import text\n",
    "from scipy.stats import beta\n",
    "from scipy.integrate import quad\n",
    "\n",
    "from src.plotting import plot_odds\n",
    "from src.utils import calc_odds, enumerate_matches, get_connection"
   ]
  },
  {
   "cell_type": "markdown",
   "metadata": {},
   "source": [
    "## Config"
   ]
  },
  {
   "cell_type": "code",
   "execution_count": 8,
   "metadata": {},
   "outputs": [
    {
     "data": {
      "text/html": [
       "\n",
       "<style>\n",
       ".output_png{\n",
       "text-align:center;\n",
       "}\n",
       "</style>\n"
      ],
      "text/plain": [
       "<IPython.core.display.HTML object>"
      ]
     },
     "execution_count": 8,
     "metadata": {},
     "output_type": "execute_result"
    }
   ],
   "source": [
    "%matplotlib inline\n",
    "sns.set()\n",
    "\n",
    "HTML(\"\"\"\n",
    "<style>\n",
    ".output_png{\n",
    "text-align:center;\n",
    "}\n",
    "</style>\n",
    "\"\"\")"
   ]
  },
  {
   "cell_type": "markdown",
   "metadata": {},
   "source": [
    "***\n",
    "# Get the raw team overview\n",
    "In order to get started, a table containing **team_id**, **wins** and **losses** is needed:"
   ]
  },
  {
   "cell_type": "code",
   "execution_count": 9,
   "metadata": {},
   "outputs": [
    {
     "data": {
      "text/html": [
       "<div>\n",
       "<table border=\"1\" class=\"dataframe\">\n",
       "  <thead>\n",
       "    <tr style=\"text-align: right;\">\n",
       "      <th></th>\n",
       "      <th>season</th>\n",
       "      <th>team_id</th>\n",
       "      <th>wins</th>\n",
       "      <th>losses</th>\n",
       "    </tr>\n",
       "  </thead>\n",
       "  <tbody>\n",
       "    <tr>\n",
       "      <th>0</th>\n",
       "      <td>1985</td>\n",
       "      <td>1102</td>\n",
       "      <td>5</td>\n",
       "      <td>19</td>\n",
       "    </tr>\n",
       "    <tr>\n",
       "      <th>1</th>\n",
       "      <td>1985</td>\n",
       "      <td>1103</td>\n",
       "      <td>9</td>\n",
       "      <td>14</td>\n",
       "    </tr>\n",
       "    <tr>\n",
       "      <th>2</th>\n",
       "      <td>1985</td>\n",
       "      <td>1104</td>\n",
       "      <td>21</td>\n",
       "      <td>9</td>\n",
       "    </tr>\n",
       "    <tr>\n",
       "      <th>3</th>\n",
       "      <td>1985</td>\n",
       "      <td>1106</td>\n",
       "      <td>10</td>\n",
       "      <td>14</td>\n",
       "    </tr>\n",
       "    <tr>\n",
       "      <th>4</th>\n",
       "      <td>1985</td>\n",
       "      <td>1108</td>\n",
       "      <td>19</td>\n",
       "      <td>6</td>\n",
       "    </tr>\n",
       "  </tbody>\n",
       "</table>\n",
       "</div>"
      ],
      "text/plain": [
       "   season  team_id  wins  losses\n",
       "0    1985     1102     5      19\n",
       "1    1985     1103     9      14\n",
       "2    1985     1104    21       9\n",
       "3    1985     1106    10      14\n",
       "4    1985     1108    19       6"
      ]
     },
     "execution_count": 9,
     "metadata": {},
     "output_type": "execute_result"
    }
   ],
   "source": [
    "df_wins_losses_per_team  = pd.read_sql(\n",
    "    sql=text(\"\"\"\n",
    "    SELECT wins.season, wins.team_id, wins.wins, losses.losses\n",
    "    FROM t_derived_wins_per_team_per_season wins\n",
    "    JOIN t_derived_losses_per_team_per_season losses\n",
    "    ON wins.season = losses.season\n",
    "    AND wins.team_id = losses.team_id\n",
    "    LIMIT 5\n",
    "    \"\"\"),\n",
    "    con=get_connection()\n",
    ")\n",
    "df_wins_losses_per_team"
   ]
  },
  {
   "cell_type": "markdown",
   "metadata": {},
   "source": [
    "# Calculate every possible matchup"
   ]
  },
  {
   "cell_type": "markdown",
   "metadata": {},
   "source": [
    "The next step is to calculate every possible matchup. Since the matchups are symmetric (the match \"A vs. B\" is considered the same as \"B vs. A\", a.k.a. [combinations without replacement](https://en.wikipedia.org/wiki/Combination)) the games are enumerated such that team A holds the smaller team id:"
   ]
  },
  {
   "cell_type": "code",
   "execution_count": 10,
   "metadata": {},
   "outputs": [
    {
     "data": {
      "text/html": [
       "<div>\n",
       "<table border=\"1\" class=\"dataframe\">\n",
       "  <thead>\n",
       "    <tr style=\"text-align: right;\">\n",
       "      <th></th>\n",
       "      <th>season_a</th>\n",
       "      <th>team_id_a</th>\n",
       "      <th>wins_a</th>\n",
       "      <th>losses_a</th>\n",
       "      <th>season_b</th>\n",
       "      <th>team_id_b</th>\n",
       "      <th>wins_b</th>\n",
       "      <th>losses_b</th>\n",
       "    </tr>\n",
       "  </thead>\n",
       "  <tbody>\n",
       "    <tr>\n",
       "      <th>0</th>\n",
       "      <td>1985</td>\n",
       "      <td>1102</td>\n",
       "      <td>5</td>\n",
       "      <td>19</td>\n",
       "      <td>1985</td>\n",
       "      <td>1103</td>\n",
       "      <td>9</td>\n",
       "      <td>14</td>\n",
       "    </tr>\n",
       "    <tr>\n",
       "      <th>1</th>\n",
       "      <td>1985</td>\n",
       "      <td>1102</td>\n",
       "      <td>5</td>\n",
       "      <td>19</td>\n",
       "      <td>1985</td>\n",
       "      <td>1104</td>\n",
       "      <td>21</td>\n",
       "      <td>9</td>\n",
       "    </tr>\n",
       "    <tr>\n",
       "      <th>2</th>\n",
       "      <td>1985</td>\n",
       "      <td>1102</td>\n",
       "      <td>5</td>\n",
       "      <td>19</td>\n",
       "      <td>1985</td>\n",
       "      <td>1106</td>\n",
       "      <td>10</td>\n",
       "      <td>14</td>\n",
       "    </tr>\n",
       "    <tr>\n",
       "      <th>3</th>\n",
       "      <td>1985</td>\n",
       "      <td>1102</td>\n",
       "      <td>5</td>\n",
       "      <td>19</td>\n",
       "      <td>1985</td>\n",
       "      <td>1108</td>\n",
       "      <td>19</td>\n",
       "      <td>6</td>\n",
       "    </tr>\n",
       "    <tr>\n",
       "      <th>4</th>\n",
       "      <td>1985</td>\n",
       "      <td>1103</td>\n",
       "      <td>9</td>\n",
       "      <td>14</td>\n",
       "      <td>1985</td>\n",
       "      <td>1104</td>\n",
       "      <td>21</td>\n",
       "      <td>9</td>\n",
       "    </tr>\n",
       "    <tr>\n",
       "      <th>5</th>\n",
       "      <td>1985</td>\n",
       "      <td>1103</td>\n",
       "      <td>9</td>\n",
       "      <td>14</td>\n",
       "      <td>1985</td>\n",
       "      <td>1106</td>\n",
       "      <td>10</td>\n",
       "      <td>14</td>\n",
       "    </tr>\n",
       "    <tr>\n",
       "      <th>6</th>\n",
       "      <td>1985</td>\n",
       "      <td>1103</td>\n",
       "      <td>9</td>\n",
       "      <td>14</td>\n",
       "      <td>1985</td>\n",
       "      <td>1108</td>\n",
       "      <td>19</td>\n",
       "      <td>6</td>\n",
       "    </tr>\n",
       "    <tr>\n",
       "      <th>7</th>\n",
       "      <td>1985</td>\n",
       "      <td>1104</td>\n",
       "      <td>21</td>\n",
       "      <td>9</td>\n",
       "      <td>1985</td>\n",
       "      <td>1106</td>\n",
       "      <td>10</td>\n",
       "      <td>14</td>\n",
       "    </tr>\n",
       "    <tr>\n",
       "      <th>8</th>\n",
       "      <td>1985</td>\n",
       "      <td>1104</td>\n",
       "      <td>21</td>\n",
       "      <td>9</td>\n",
       "      <td>1985</td>\n",
       "      <td>1108</td>\n",
       "      <td>19</td>\n",
       "      <td>6</td>\n",
       "    </tr>\n",
       "    <tr>\n",
       "      <th>9</th>\n",
       "      <td>1985</td>\n",
       "      <td>1106</td>\n",
       "      <td>10</td>\n",
       "      <td>14</td>\n",
       "      <td>1985</td>\n",
       "      <td>1108</td>\n",
       "      <td>19</td>\n",
       "      <td>6</td>\n",
       "    </tr>\n",
       "  </tbody>\n",
       "</table>\n",
       "</div>"
      ],
      "text/plain": [
       "   season_a  team_id_a  wins_a  losses_a  season_b  team_id_b  wins_b  \\\n",
       "0      1985       1102       5        19      1985       1103       9   \n",
       "1      1985       1102       5        19      1985       1104      21   \n",
       "2      1985       1102       5        19      1985       1106      10   \n",
       "3      1985       1102       5        19      1985       1108      19   \n",
       "4      1985       1103       9        14      1985       1104      21   \n",
       "5      1985       1103       9        14      1985       1106      10   \n",
       "6      1985       1103       9        14      1985       1108      19   \n",
       "7      1985       1104      21         9      1985       1106      10   \n",
       "8      1985       1104      21         9      1985       1108      19   \n",
       "9      1985       1106      10        14      1985       1108      19   \n",
       "\n",
       "   losses_b  \n",
       "0        14  \n",
       "1         9  \n",
       "2        14  \n",
       "3         6  \n",
       "4         9  \n",
       "5        14  \n",
       "6         6  \n",
       "7        14  \n",
       "8         6  \n",
       "9         6  "
      ]
     },
     "execution_count": 10,
     "metadata": {},
     "output_type": "execute_result"
    }
   ],
   "source": [
    "enumerate_matches(df_wins_losses_per_team)"
   ]
  },
  {
   "cell_type": "markdown",
   "metadata": {},
   "source": [
    "# Calculate the game odds for A\n",
    "The calculation of the winning odds for team undergo a slightly more complex process (mainly based on the [beta-distribution](https://en.wikipedia.org/wiki/Beta_distribution) and [bootstrapping](https://en.wikipedia.org/wiki/Bootstrapping_(statistics)). The overall process can be seen as:\n",
    "1. Calculate the winning probability per team, assuming that this probability is beta distributed under $\\alpha$ = wins per team and $\\beta$ = losses per team\n",
    "2. Draw samples of each beta distribution. If the sample from team A is higher than the sample from team B, interpret it as a win for team A, otherwise as a loss. Repeat that step N times.\n",
    "3. Repeat (2) M times and derive the odds for team A as the average number of wins."
   ]
  },
  {
   "cell_type": "code",
   "execution_count": 11,
   "metadata": {},
   "outputs": [
    {
     "data": {
      "text/html": [
       "<div>\n",
       "<table border=\"1\" class=\"dataframe\">\n",
       "  <thead>\n",
       "    <tr style=\"text-align: right;\">\n",
       "      <th></th>\n",
       "      <th>season_a</th>\n",
       "      <th>team_id_a</th>\n",
       "      <th>wins_a</th>\n",
       "      <th>losses_a</th>\n",
       "      <th>season_b</th>\n",
       "      <th>team_id_b</th>\n",
       "      <th>wins_b</th>\n",
       "      <th>losses_b</th>\n",
       "      <th>odds_a</th>\n",
       "    </tr>\n",
       "  </thead>\n",
       "  <tbody>\n",
       "    <tr>\n",
       "      <th>0</th>\n",
       "      <td>1985</td>\n",
       "      <td>1102</td>\n",
       "      <td>5</td>\n",
       "      <td>19</td>\n",
       "      <td>1985</td>\n",
       "      <td>1103</td>\n",
       "      <td>9</td>\n",
       "      <td>14</td>\n",
       "      <td>0.078680</td>\n",
       "    </tr>\n",
       "    <tr>\n",
       "      <th>1</th>\n",
       "      <td>1985</td>\n",
       "      <td>1102</td>\n",
       "      <td>5</td>\n",
       "      <td>19</td>\n",
       "      <td>1985</td>\n",
       "      <td>1104</td>\n",
       "      <td>21</td>\n",
       "      <td>9</td>\n",
       "      <td>0.000063</td>\n",
       "    </tr>\n",
       "    <tr>\n",
       "      <th>2</th>\n",
       "      <td>1985</td>\n",
       "      <td>1102</td>\n",
       "      <td>5</td>\n",
       "      <td>19</td>\n",
       "      <td>1985</td>\n",
       "      <td>1106</td>\n",
       "      <td>10</td>\n",
       "      <td>14</td>\n",
       "      <td>0.053829</td>\n",
       "    </tr>\n",
       "    <tr>\n",
       "      <th>3</th>\n",
       "      <td>1985</td>\n",
       "      <td>1102</td>\n",
       "      <td>5</td>\n",
       "      <td>19</td>\n",
       "      <td>1985</td>\n",
       "      <td>1108</td>\n",
       "      <td>19</td>\n",
       "      <td>6</td>\n",
       "      <td>0.000018</td>\n",
       "    </tr>\n",
       "    <tr>\n",
       "      <th>4</th>\n",
       "      <td>1985</td>\n",
       "      <td>1103</td>\n",
       "      <td>9</td>\n",
       "      <td>14</td>\n",
       "      <td>1985</td>\n",
       "      <td>1104</td>\n",
       "      <td>21</td>\n",
       "      <td>9</td>\n",
       "      <td>0.010668</td>\n",
       "    </tr>\n",
       "    <tr>\n",
       "      <th>5</th>\n",
       "      <td>1985</td>\n",
       "      <td>1103</td>\n",
       "      <td>9</td>\n",
       "      <td>14</td>\n",
       "      <td>1985</td>\n",
       "      <td>1106</td>\n",
       "      <td>10</td>\n",
       "      <td>14</td>\n",
       "      <td>0.427749</td>\n",
       "    </tr>\n",
       "    <tr>\n",
       "      <th>6</th>\n",
       "      <td>1985</td>\n",
       "      <td>1103</td>\n",
       "      <td>9</td>\n",
       "      <td>14</td>\n",
       "      <td>1985</td>\n",
       "      <td>1108</td>\n",
       "      <td>19</td>\n",
       "      <td>6</td>\n",
       "      <td>0.003698</td>\n",
       "    </tr>\n",
       "    <tr>\n",
       "      <th>7</th>\n",
       "      <td>1985</td>\n",
       "      <td>1104</td>\n",
       "      <td>21</td>\n",
       "      <td>9</td>\n",
       "      <td>1985</td>\n",
       "      <td>1106</td>\n",
       "      <td>10</td>\n",
       "      <td>14</td>\n",
       "      <td>0.983720</td>\n",
       "    </tr>\n",
       "    <tr>\n",
       "      <th>8</th>\n",
       "      <td>1985</td>\n",
       "      <td>1104</td>\n",
       "      <td>21</td>\n",
       "      <td>9</td>\n",
       "      <td>1985</td>\n",
       "      <td>1108</td>\n",
       "      <td>19</td>\n",
       "      <td>6</td>\n",
       "      <td>0.301858</td>\n",
       "    </tr>\n",
       "    <tr>\n",
       "      <th>9</th>\n",
       "      <td>1985</td>\n",
       "      <td>1106</td>\n",
       "      <td>10</td>\n",
       "      <td>14</td>\n",
       "      <td>1985</td>\n",
       "      <td>1108</td>\n",
       "      <td>19</td>\n",
       "      <td>6</td>\n",
       "      <td>0.005770</td>\n",
       "    </tr>\n",
       "  </tbody>\n",
       "</table>\n",
       "</div>"
      ],
      "text/plain": [
       "   season_a  team_id_a  wins_a  losses_a  season_b  team_id_b  wins_b  \\\n",
       "0      1985       1102       5        19      1985       1103       9   \n",
       "1      1985       1102       5        19      1985       1104      21   \n",
       "2      1985       1102       5        19      1985       1106      10   \n",
       "3      1985       1102       5        19      1985       1108      19   \n",
       "4      1985       1103       9        14      1985       1104      21   \n",
       "5      1985       1103       9        14      1985       1106      10   \n",
       "6      1985       1103       9        14      1985       1108      19   \n",
       "7      1985       1104      21         9      1985       1106      10   \n",
       "8      1985       1104      21         9      1985       1108      19   \n",
       "9      1985       1106      10        14      1985       1108      19   \n",
       "\n",
       "   losses_b    odds_a  \n",
       "0        14  0.078680  \n",
       "1         9  0.000063  \n",
       "2        14  0.053829  \n",
       "3         6  0.000018  \n",
       "4         9  0.010668  \n",
       "5        14  0.427749  \n",
       "6         6  0.003698  \n",
       "7        14  0.983720  \n",
       "8         6  0.301858  \n",
       "9         6  0.005770  "
      ]
     },
     "execution_count": 11,
     "metadata": {},
     "output_type": "execute_result"
    }
   ],
   "source": [
    "calc_odds(enumerate_matches(df_wins_losses_per_team))"
   ]
  },
  {
   "cell_type": "markdown",
   "metadata": {},
   "source": [
    "# Plot the game odds \n",
    "In order to get a bit better intuition behind the odds between the teams, the per team winning probability (beta distributed) can be plotted. I addition the title of the plot show the probability, that team A (blue) would win against team B (green)."
   ]
  },
  {
   "cell_type": "code",
   "execution_count": 12,
   "metadata": {},
   "outputs": [
    {
     "data": {
      "image/png": "[encoded data removed]",
      "text/plain": [
       "<matplotlib.figure.Figure at 0x7f9c07abc7b8>"
      ]
     },
     "metadata": {},
     "output_type": "display_data"
    }
   ],
   "source": [
    "plot_odds(calc_odds(enumerate_matches(df_wins_losses_per_team)).iloc[0,:])"
   ]
  },
  {
   "cell_type": "markdown",
   "metadata": {},
   "source": [
    "# Calculation of winning probability (Odds)\n",
    "## Assumptions\n",
    "* The probability of team A is winning against team B is winning is independent of the team combination, it just depends on the performance of each team against all the others\n",
    "* We model a win of Team A if the probability of Team A is winning is greater than the probability of team B is winning\n",
    "* The probability of a wrinning team is modelled by a beta distribution as described above\n",
    "\n",
    "## Derviation of equation\n",
    "We would like to calculate $$ P(A>B).$$ Based on the independence we can express the jopint distrubtion as $$P(A,B)=P(A)P(B)$$ and the integration boundaries as in the subsequent figure.\n",
    "![derivation](../figures/01_Calculate_odds.jpg)\n",
    "Which leads to the result $$P(A>B)=\\int_0^1{f_B(b) \\cdot [F_A(1) - F_A(b)]\\,da\\,db}$$ with the probability density functions $$f_A(a)=\\textrm{Beta}(a; \\alpha_A, \\beta_A),$$ $$f_B(b)=\\textrm{Beta}(b; \\alpha_B, \\beta_B)$$ and the cumulative probability density functions $$F_A(a)=\\int_{-\\infty}^a f_A(t)dt,$$ $$F_B(b)=\\int_{-\\infty}^b f_B(t)dt$$"
   ]
  },
  {
   "cell_type": "code",
   "execution_count": 17,
   "metadata": {},
   "outputs": [],
   "source": [
    "df_wins_losses_per_team_enum = enumerate_matches(df_wins_losses_per_team)"
   ]
  },
  {
   "cell_type": "code",
   "execution_count": 40,
   "metadata": {},
   "outputs": [],
   "source": [
    "def winning_probability(row):\n",
    "    beta_a = beta(row[\"wins_a\"], row[\"losses_a\"])\n",
    "    beta_b = beta(row[\"wins_b\"], row[\"losses_b\"])\n",
    "    return quad(lambda b: beta_b.pdf(b) * (1 - beta_a.cdf(b)), 0, 1)[0]"
   ]
  },
  {
   "cell_type": "code",
   "execution_count": 41,
   "metadata": {},
   "outputs": [
    {
     "data": {
      "text/plain": [
       "0    0.078674\n",
       "1    0.000086\n",
       "2    0.053754\n",
       "3    0.000025\n",
       "4    0.010747\n",
       "5    0.427901\n",
       "6    0.003746\n",
       "7    0.983728\n",
       "8    0.301405\n",
       "9    0.005803\n",
       "dtype: float64"
      ]
     },
     "execution_count": 41,
     "metadata": {},
     "output_type": "execute_result"
    }
   ],
   "source": [
    "df_wins_losses_per_team_enum.apply(winning_probability, axis=1)"
   ]
  },
  {
   "cell_type": "code",
   "execution_count": null,
   "metadata": {},
   "outputs": [],
   "source": []
  }
 ],
 "metadata": {
  "kernelspec": {
   "display_name": "Python 3",
   "language": "python",
   "name": "python3"
  },
  "language_info": {
   "codemirror_mode": {
    "name": "ipython",
    "version": 3
   },
   "file_extension": ".py",
   "mimetype": "text/x-python",
   "name": "python",
   "nbconvert_exporter": "python",
   "pygments_lexer": "ipython3",
   "version": "3.6.3"
  }
 },
 "nbformat": 4,
 "nbformat_minor": 2
}
