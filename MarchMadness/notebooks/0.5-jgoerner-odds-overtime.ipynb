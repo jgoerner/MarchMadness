{
 "cells": [
  {
   "cell_type": "markdown",
   "metadata": {},
   "source": [
    "# About\n",
    "This notebook evaluates if the overtime wins & losses shall be ommitted from the odd calculation or not.\n",
    "***\n"
   ]
  },
  {
   "cell_type": "markdown",
   "metadata": {},
   "source": [
    "# Preface\n",
    "## Imports"
   ]
  },
  {
   "cell_type": "code",
   "execution_count": 1,
   "metadata": {},
   "outputs": [],
   "source": [
    "import os\n",
    "os.chdir(\"/home/jovyan/work\")\n",
    "\n",
    "from IPython.core.display import HTML\n",
    "import matplotlib.pyplot as plt\n",
    "import numpy as np\n",
    "import pandas as pd\n",
    "import seaborn as sns\n",
    "\n",
    "from src.transformer import HistWinLossTransformer, OddTransformer, SeedTransformer, WinLossTransformer\n",
    "from src.utils import get_table, sample_submission_to_df"
   ]
  },
  {
   "cell_type": "markdown",
   "metadata": {},
   "source": [
    "## Config"
   ]
  },
  {
   "cell_type": "code",
   "execution_count": 2,
   "metadata": {},
   "outputs": [
    {
     "data": {
      "text/html": [
       "\n",
       "<style>\n",
       ".output_png{\n",
       "text-align:center;\n",
       "}\n",
       "</style>\n"
      ],
      "text/plain": [
       "<IPython.core.display.HTML object>"
      ]
     },
     "execution_count": 2,
     "metadata": {},
     "output_type": "execute_result"
    }
   ],
   "source": [
    "%matplotlib inline\n",
    "sns.set()\n",
    "HTML(\"\"\"\n",
    "<style>\n",
    ".output_png{\n",
    "text-align:center;\n",
    "}\n",
    "</style>\n",
    "\"\"\")"
   ]
  },
  {
   "cell_type": "markdown",
   "metadata": {},
   "source": [
    "***\n",
    "# Odds regular season"
   ]
  },
  {
   "cell_type": "markdown",
   "metadata": {},
   "source": [
    "## Enrich data with wins/losses by ot"
   ]
  },
  {
   "cell_type": "code",
   "execution_count": 3,
   "metadata": {},
   "outputs": [],
   "source": [
    "# get table\n",
    "df_ncaa = get_table(\"t_original_ncaa_tourney_compact_results\")[[\"season\", \"w_team_id\", \"l_team_id\"]]\n",
    "\n",
    "# define transformer\n",
    "wltrans_ot = WinLossTransformer(\n",
    "    \"w_team_id\",\n",
    "    \"l_team_id\",\n",
    "    split_by_ot=True,\n",
    ")\n",
    "\n",
    "# enhance data\n",
    "df_ncaa_wl_by_ot = wltrans_ot.fit_transform(df_ncaa)"
   ]
  },
  {
   "cell_type": "markdown",
   "metadata": {},
   "source": [
    "## Derive odds based on no overtime wins/losses"
   ]
  },
  {
   "cell_type": "code",
   "execution_count": 4,
   "metadata": {},
   "outputs": [],
   "source": [
    "otrans_no_ot = OddTransformer(\n",
    "    [\"wins_no_ot_reg_a\"],\n",
    "    [\"losses_no_ot_reg_a\"],\n",
    "    [\"wins_no_ot_reg_b\"],\n",
    "    [\"losses_no_ot_reg_b\"],\n",
    "    n_samples=100,\n",
    "    n_experiments=100,\n",
    ")\n",
    "\n",
    "df_ncaa_odds_no_ot = otrans_no_ot.fit_transform(df_ncaa_wl_by_ot)"
   ]
  },
  {
   "cell_type": "markdown",
   "metadata": {},
   "source": [
    "## Derive odds based on all wins/losses"
   ]
  },
  {
   "cell_type": "code",
   "execution_count": 5,
   "metadata": {},
   "outputs": [],
   "source": [
    "otrans_all = OddTransformer(\n",
    "    [\"wins_no_ot_reg_a\", \"wins_ot_reg_a\"],\n",
    "    [\"losses_no_ot_reg_a\", \"losses_ot_reg_a\"],\n",
    "    [\"wins_no_ot_reg_b\", \"wins_ot_reg_b\"],\n",
    "    [\"losses_no_ot_reg_b\", \"losses_ot_reg_b\"],\n",
    "    n_samples=100,\n",
    "    n_experiments=100,\n",
    ")\n",
    "\n",
    "df_ncaa_odds_all = otrans_all.fit_transform(df_ncaa_wl_by_ot)"
   ]
  },
  {
   "cell_type": "markdown",
   "metadata": {},
   "source": [
    "## Plot odds based on all / no ot wins/losses"
   ]
  },
  {
   "cell_type": "code",
   "execution_count": 6,
   "metadata": {},
   "outputs": [
    {
     "data": {
      "image/png": "[encoded data removed]",
      "text/plain": [
       "<matplotlib.figure.Figure at 0x7fe01bc20278>"
      ]
     },
     "metadata": {},
     "output_type": "display_data"
    }
   ],
   "source": [
    "sns.distplot(df_ncaa_odds_all[\"odds_a\"], hist=False, label=\"all wins/losses\")\n",
    "sns.distplot(df_ncaa_odds_no_ot[\"odds_a\"], hist=False, label=\"no ot wins/losses\")\n",
    "plt.legend(loc=\"best\")\n",
    "plt.savefig(\"./figures/05_jgoerner_odds_overtime_ot_no_ot_comparison.png\")"
   ]
  },
  {
   "cell_type": "markdown",
   "metadata": {},
   "source": [
    "***\n",
    "# Odds historic NCAA"
   ]
  },
  {
   "cell_type": "code",
   "execution_count": 7,
   "metadata": {},
   "outputs": [],
   "source": [
    "# get table\n",
    "df_ncaa = get_table(\"t_original_ncaa_tourney_compact_results\")[[\"season\", \"w_team_id\", \"l_team_id\"]]\n",
    "\n",
    "# define transformer\n",
    "hwltrans_ot = HistWinLossTransformer(\n",
    "    \"w_team_id\",\n",
    "    \"l_team_id\",\n",
    "    split_by_ot=True,\n",
    ")\n",
    "\n",
    "# enhance data\n",
    "df_ncaa_hist_wl_by_ot = hwltrans_ot.fit_transform(df_ncaa)"
   ]
  },
  {
   "cell_type": "markdown",
   "metadata": {},
   "source": [
    "## Derive odds based on no overtime wins/losses"
   ]
  },
  {
   "cell_type": "code",
   "execution_count": 9,
   "metadata": {},
   "outputs": [],
   "source": [
    "otrans_hist_no_ot = OddTransformer(\n",
    "    [\"wins_no_ot_hist_a\"],\n",
    "    [\"losses_no_ot_hist_a\"],\n",
    "    [\"wins_no_ot_hist_b\"],\n",
    "    [\"losses_no_ot_hist_b\"],\n",
    "    n_samples=100,\n",
    "    n_experiments=100,\n",
    ")\n",
    "\n",
    "df_ncaa_hist_odds_no_ot = otrans_hist_no_ot.fit_transform(df_ncaa_hist_wl_by_ot)"
   ]
  },
  {
   "cell_type": "markdown",
   "metadata": {},
   "source": [
    "## Derive odds based on all wins/losses"
   ]
  },
  {
   "cell_type": "code",
   "execution_count": 13,
   "metadata": {},
   "outputs": [],
   "source": [
    "otrans_hist_all = OddTransformer(\n",
    "    [\"wins_no_ot_hist_a\", \"wins_ot_hist_a\"],\n",
    "    [\"losses_no_ot_hist_a\", \"losses_ot_hist_a\"],\n",
    "    [\"wins_no_ot_hist_b\", \"wins_ot_hist_b\"],\n",
    "    [\"losses_no_ot_hist_b\", \"losses_ot_hist_b\"],\n",
    "    n_samples=100,\n",
    "    n_experiments=100,\n",
    ")\n",
    "\n",
    "df_ncaa_hist_odds_all = otrans_hist_all.fit_transform(df_ncaa_hist_wl_by_ot)"
   ]
  },
  {
   "cell_type": "markdown",
   "metadata": {},
   "source": [
    "# Plot odds based on all / no ot wins/losses"
   ]
  },
  {
   "cell_type": "code",
   "execution_count": 16,
   "metadata": {},
   "outputs": [
    {
     "data": {
      "image/png": "[encoded data removed]",
      "text/plain": [
       "<matplotlib.figure.Figure at 0x7fe01bc7a080>"
      ]
     },
     "metadata": {},
     "output_type": "display_data"
    }
   ],
   "source": [
    "sns.distplot(df_ncaa_hist_odds_all[\"odds_a\"], hist=False, label=\"all wins/losses\")\n",
    "sns.distplot(df_ncaa_hist_odds_no_ot[\"odds_a\"], hist=False, label=\"no ot wins/losses\")\n",
    "plt.legend(loc=\"best\")\n",
    "plt.savefig(\"./figures/05_jgoerner_odds_overtime_hist_ot_no_ot_comparison.png\")"
   ]
  }
 ],
 "metadata": {
  "kernelspec": {
   "display_name": "Python 3",
   "language": "python",
   "name": "python3"
  },
  "language_info": {
   "codemirror_mode": {
    "name": "ipython",
    "version": 3
   },
   "file_extension": ".py",
   "mimetype": "text/x-python",
   "name": "python",
   "nbconvert_exporter": "python",
   "pygments_lexer": "ipython3",
   "version": "3.6.2"
  }
 },
 "nbformat": 4,
 "nbformat_minor": 2
}
